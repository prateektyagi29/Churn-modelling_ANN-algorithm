{
 "cells": [
  {
   "cell_type": "markdown",
   "metadata": {},
   "source": [
    "## Analysis of Churn Modelling dataset :"
   ]
  },
  {
   "cell_type": "markdown",
   "metadata": {},
   "source": [
    "### About the datset :"
   ]
  },
  {
   "cell_type": "code",
   "execution_count": null,
   "metadata": {},
   "outputs": [],
   "source": [
    "This data set contains details of a banks customers :\n",
    "\n",
    "Attributes:\n",
    "1)  RowNumber        - Row Numbers from 1 to 10000\n",
    "2)  Customer Id      - Unique Ids for bank customer identification\n",
    "3)  Surname          - Customer's last name\n",
    "4)  Credit Score     - Credit score of the customer\n",
    "5)  Geography        - The country from which the customer belongs\n",
    "6)  Gender           - Male or Female\n",
    "7)  Age              - Age of the customer\n",
    "8)  Tenure           - Number of years for which the customer has been with the bank\n",
    "9)  Balance          - Bank balance of the customer\n",
    "10) Num Of Products  - Number of bank products the customer is utilising\n",
    "11) Has Credit Card  - Binary Flag for whether the customer holds a credit card with the bank or not\n",
    "12) Is Active Member - Binary Flag for whether the customer is an active member with the bank or not\n",
    "13) Estimated Salary - Estimated salary of the customer in Dollars\n",
    "14) Exited           - Binary flag 1 if the customer closed account with bank and 0 if the customer is retained"
   ]
  },
  {
   "cell_type": "code",
   "execution_count": null,
   "metadata": {},
   "outputs": [],
   "source": [
    "The target variable is a binary variable reflecting the fact whether the customer left the bank (closed his account) or he continues to be a customer i.e. the goal is to predict whether the customer will leave or left the bank or will continues to be a customer.\n",
    "In this I am going to:\n",
    "1) Take a look at the data.\n",
    "2) Analyze data.\n",
    "3) Perform various operations like encoding, scaling etc.\n",
    "4) Build an ANN model to analyze and predict the outcome."
   ]
  },
  {
   "cell_type": "markdown",
   "metadata": {},
   "source": [
    "### Importing the libraries"
   ]
  },
  {
   "cell_type": "code",
   "execution_count": 1,
   "metadata": {},
   "outputs": [],
   "source": [
    "import numpy as np\n",
    "import matplotlib.pyplot as plt\n",
    "import pandas as pd"
   ]
  },
  {
   "cell_type": "markdown",
   "metadata": {},
   "source": [
    "### Importing the dataset"
   ]
  },
  {
   "cell_type": "code",
   "execution_count": 2,
   "metadata": {},
   "outputs": [],
   "source": [
    "dataset = pd.read_csv('C:\\\\Users\\\\Home\\\\Documents\\\\New folder\\\\Deep Learning\\\\Churn_Modelling.csv')\n"
   ]
  },
  {
   "cell_type": "code",
   "execution_count": 3,
   "metadata": {},
   "outputs": [
    {
     "data": {
      "text/html": [
       "<div>\n",
       "<style scoped>\n",
       "    .dataframe tbody tr th:only-of-type {\n",
       "        vertical-align: middle;\n",
       "    }\n",
       "\n",
       "    .dataframe tbody tr th {\n",
       "        vertical-align: top;\n",
       "    }\n",
       "\n",
       "    .dataframe thead th {\n",
       "        text-align: right;\n",
       "    }\n",
       "</style>\n",
       "<table border=\"1\" class=\"dataframe\">\n",
       "  <thead>\n",
       "    <tr style=\"text-align: right;\">\n",
       "      <th></th>\n",
       "      <th>RowNumber</th>\n",
       "      <th>CustomerId</th>\n",
       "      <th>Surname</th>\n",
       "      <th>CreditScore</th>\n",
       "      <th>Geography</th>\n",
       "      <th>Gender</th>\n",
       "      <th>Age</th>\n",
       "      <th>Tenure</th>\n",
       "      <th>Balance</th>\n",
       "      <th>NumOfProducts</th>\n",
       "      <th>HasCrCard</th>\n",
       "      <th>IsActiveMember</th>\n",
       "      <th>EstimatedSalary</th>\n",
       "      <th>Exited</th>\n",
       "    </tr>\n",
       "  </thead>\n",
       "  <tbody>\n",
       "    <tr>\n",
       "      <th>0</th>\n",
       "      <td>1</td>\n",
       "      <td>15634602</td>\n",
       "      <td>Hargrave</td>\n",
       "      <td>619</td>\n",
       "      <td>France</td>\n",
       "      <td>Female</td>\n",
       "      <td>42</td>\n",
       "      <td>2</td>\n",
       "      <td>0.00</td>\n",
       "      <td>1</td>\n",
       "      <td>1</td>\n",
       "      <td>1</td>\n",
       "      <td>101348.88</td>\n",
       "      <td>1</td>\n",
       "    </tr>\n",
       "    <tr>\n",
       "      <th>1</th>\n",
       "      <td>2</td>\n",
       "      <td>15647311</td>\n",
       "      <td>Hill</td>\n",
       "      <td>608</td>\n",
       "      <td>Spain</td>\n",
       "      <td>Female</td>\n",
       "      <td>41</td>\n",
       "      <td>1</td>\n",
       "      <td>83807.86</td>\n",
       "      <td>1</td>\n",
       "      <td>0</td>\n",
       "      <td>1</td>\n",
       "      <td>112542.58</td>\n",
       "      <td>0</td>\n",
       "    </tr>\n",
       "    <tr>\n",
       "      <th>2</th>\n",
       "      <td>3</td>\n",
       "      <td>15619304</td>\n",
       "      <td>Onio</td>\n",
       "      <td>502</td>\n",
       "      <td>France</td>\n",
       "      <td>Female</td>\n",
       "      <td>42</td>\n",
       "      <td>8</td>\n",
       "      <td>159660.80</td>\n",
       "      <td>3</td>\n",
       "      <td>1</td>\n",
       "      <td>0</td>\n",
       "      <td>113931.57</td>\n",
       "      <td>1</td>\n",
       "    </tr>\n",
       "    <tr>\n",
       "      <th>3</th>\n",
       "      <td>4</td>\n",
       "      <td>15701354</td>\n",
       "      <td>Boni</td>\n",
       "      <td>699</td>\n",
       "      <td>France</td>\n",
       "      <td>Female</td>\n",
       "      <td>39</td>\n",
       "      <td>1</td>\n",
       "      <td>0.00</td>\n",
       "      <td>2</td>\n",
       "      <td>0</td>\n",
       "      <td>0</td>\n",
       "      <td>93826.63</td>\n",
       "      <td>0</td>\n",
       "    </tr>\n",
       "    <tr>\n",
       "      <th>4</th>\n",
       "      <td>5</td>\n",
       "      <td>15737888</td>\n",
       "      <td>Mitchell</td>\n",
       "      <td>850</td>\n",
       "      <td>Spain</td>\n",
       "      <td>Female</td>\n",
       "      <td>43</td>\n",
       "      <td>2</td>\n",
       "      <td>125510.82</td>\n",
       "      <td>1</td>\n",
       "      <td>1</td>\n",
       "      <td>1</td>\n",
       "      <td>79084.10</td>\n",
       "      <td>0</td>\n",
       "    </tr>\n",
       "  </tbody>\n",
       "</table>\n",
       "</div>"
      ],
      "text/plain": [
       "   RowNumber  CustomerId   Surname  CreditScore Geography  Gender  Age  \\\n",
       "0          1    15634602  Hargrave          619    France  Female   42   \n",
       "1          2    15647311      Hill          608     Spain  Female   41   \n",
       "2          3    15619304      Onio          502    France  Female   42   \n",
       "3          4    15701354      Boni          699    France  Female   39   \n",
       "4          5    15737888  Mitchell          850     Spain  Female   43   \n",
       "\n",
       "   Tenure    Balance  NumOfProducts  HasCrCard  IsActiveMember  \\\n",
       "0       2       0.00              1          1               1   \n",
       "1       1   83807.86              1          0               1   \n",
       "2       8  159660.80              3          1               0   \n",
       "3       1       0.00              2          0               0   \n",
       "4       2  125510.82              1          1               1   \n",
       "\n",
       "   EstimatedSalary  Exited  \n",
       "0        101348.88       1  \n",
       "1        112542.58       0  \n",
       "2        113931.57       1  \n",
       "3         93826.63       0  \n",
       "4         79084.10       0  "
      ]
     },
     "execution_count": 3,
     "metadata": {},
     "output_type": "execute_result"
    }
   ],
   "source": [
    "dataset.head(5)\n",
    "\n",
    "#This gives first five 5 observations in the output."
   ]
  },
  {
   "cell_type": "code",
   "execution_count": 4,
   "metadata": {},
   "outputs": [],
   "source": [
    "#iloc is purely integer-location based indexing for selection by position.\n",
    "#It is used to select rows and columns by number, in the order that they appear in the data frame.\n",
    "\n",
    "X = dataset.iloc[:, 3:13].values\n",
    "y = dataset.iloc[:, 13].values"
   ]
  },
  {
   "cell_type": "code",
   "execution_count": 5,
   "metadata": {},
   "outputs": [
    {
     "data": {
      "text/plain": [
       "array([[619, 'France', 'Female', ..., 1, 1, 101348.88],\n",
       "       [608, 'Spain', 'Female', ..., 0, 1, 112542.58],\n",
       "       [502, 'France', 'Female', ..., 1, 0, 113931.57],\n",
       "       ...,\n",
       "       [709, 'France', 'Female', ..., 0, 1, 42085.58],\n",
       "       [772, 'Germany', 'Male', ..., 1, 0, 92888.52],\n",
       "       [792, 'France', 'Female', ..., 1, 0, 38190.78]], dtype=object)"
      ]
     },
     "execution_count": 5,
     "metadata": {},
     "output_type": "execute_result"
    }
   ],
   "source": [
    "X"
   ]
  },
  {
   "cell_type": "code",
   "execution_count": 6,
   "metadata": {},
   "outputs": [
    {
     "data": {
      "text/plain": [
       "array([1, 0, 1, ..., 1, 1, 0], dtype=int64)"
      ]
     },
     "execution_count": 6,
     "metadata": {},
     "output_type": "execute_result"
    }
   ],
   "source": [
    "y"
   ]
  },
  {
   "cell_type": "markdown",
   "metadata": {},
   "source": [
    "### Encoding categorical data…"
   ]
  },
  {
   "cell_type": "code",
   "execution_count": 7,
   "metadata": {},
   "outputs": [
    {
     "name": "stderr",
     "output_type": "stream",
     "text": [
      "C:\\Users\\Home\\Anaconda3\\lib\\site-packages\\sklearn\\preprocessing\\_encoders.py:415: FutureWarning: The handling of integer data will change in version 0.22. Currently, the categories are determined based on the range [0, max(values)], while in the future they will be determined based on the unique values.\n",
      "If you want the future behaviour and silence this warning, you can specify \"categories='auto'\".\n",
      "In case you used a LabelEncoder before this OneHotEncoder to convert the categories to integers, then you can now use the OneHotEncoder directly.\n",
      "  warnings.warn(msg, FutureWarning)\n",
      "C:\\Users\\Home\\Anaconda3\\lib\\site-packages\\sklearn\\preprocessing\\_encoders.py:451: DeprecationWarning: The 'categorical_features' keyword is deprecated in version 0.20 and will be removed in 0.22. You can use the ColumnTransformer instead.\n",
      "  \"use the ColumnTransformer instead.\", DeprecationWarning)\n"
     ]
    },
    {
     "data": {
      "text/plain": [
       "array([[0.0000000e+00, 0.0000000e+00, 6.1900000e+02, ..., 1.0000000e+00,\n",
       "        1.0000000e+00, 1.0134888e+05],\n",
       "       [0.0000000e+00, 1.0000000e+00, 6.0800000e+02, ..., 0.0000000e+00,\n",
       "        1.0000000e+00, 1.1254258e+05],\n",
       "       [0.0000000e+00, 0.0000000e+00, 5.0200000e+02, ..., 1.0000000e+00,\n",
       "        0.0000000e+00, 1.1393157e+05],\n",
       "       ...,\n",
       "       [0.0000000e+00, 0.0000000e+00, 7.0900000e+02, ..., 0.0000000e+00,\n",
       "        1.0000000e+00, 4.2085580e+04],\n",
       "       [1.0000000e+00, 0.0000000e+00, 7.7200000e+02, ..., 1.0000000e+00,\n",
       "        0.0000000e+00, 9.2888520e+04],\n",
       "       [0.0000000e+00, 0.0000000e+00, 7.9200000e+02, ..., 1.0000000e+00,\n",
       "        0.0000000e+00, 3.8190780e+04]])"
      ]
     },
     "execution_count": 7,
     "metadata": {},
     "output_type": "execute_result"
    }
   ],
   "source": [
    "#Encoding Categorical Data.\n",
    "#Encoding Independent variables.\n",
    "\n",
    "from sklearn.preprocessing import LabelEncoder, OneHotEncoder\n",
    "labelencoder_X_1 = LabelEncoder()\n",
    "X[:, 1] = labelencoder_X_1.fit_transform(X[:, 1])\n",
    "labelencoder_X_2 = LabelEncoder()\n",
    "X[:, 2] = labelencoder_X_2.fit_transform(X[:, 2])\n",
    "onehotencoder = OneHotEncoder(categorical_features = [1])\n",
    "X = onehotencoder.fit_transform(X).toarray()\n",
    "\n",
    "#To avoid from dummy variable trap, we will remove one dummy variable column.\n",
    "X = X[:, 1:]\n",
    "X"
   ]
  },
  {
   "cell_type": "markdown",
   "metadata": {},
   "source": [
    "### Splitting the dataset into the Training set and Test set"
   ]
  },
  {
   "cell_type": "code",
   "execution_count": 8,
   "metadata": {},
   "outputs": [
    {
     "data": {
      "text/plain": [
       "(8000, 11)"
      ]
     },
     "execution_count": 8,
     "metadata": {},
     "output_type": "execute_result"
    }
   ],
   "source": [
    "from sklearn.model_selection import train_test_split\n",
    "X_train, X_test, y_train, y_test = train_test_split(X, y, test_size = 0.2, random_state = 0)\n",
    "X_train.shape"
   ]
  },
  {
   "cell_type": "markdown",
   "metadata": {},
   "source": [
    "### Feature Scaling"
   ]
  },
  {
   "cell_type": "code",
   "execution_count": 9,
   "metadata": {},
   "outputs": [],
   "source": [
    "#Feature Scaling is a method to standardize the independent variables present in the data in a fixed range. \n",
    "#It is performed during the data pre-processing to handle highly varying magnitudes or values or units.\n",
    "#If Feature Scaling is not done, then a machine learning algorithm tends to weigh greater values, higher and consider smaller values as the lower values, regardless of the unit of the values."
   ]
  },
  {
   "cell_type": "code",
   "execution_count": 10,
   "metadata": {},
   "outputs": [],
   "source": [
    "from sklearn.preprocessing import StandardScaler\n",
    "sc = StandardScaler()\n",
    "X_train = sc.fit_transform(X_train)\n",
    "X_test = sc.transform(X_test)"
   ]
  },
  {
   "cell_type": "markdown",
   "metadata": {},
   "source": [
    "### Importing the Keras libraries and packages"
   ]
  },
  {
   "cell_type": "code",
   "execution_count": 11,
   "metadata": {},
   "outputs": [
    {
     "name": "stderr",
     "output_type": "stream",
     "text": [
      "Using TensorFlow backend.\n"
     ]
    }
   ],
   "source": [
    "# Sequential model to initialise our ANN and dense module to build the layers.\n",
    "\n",
    "import keras\n",
    "from keras.models import Sequential\n",
    "from keras.layers import Dense"
   ]
  },
  {
   "cell_type": "markdown",
   "metadata": {},
   "source": [
    "### Initializing the ANN…"
   ]
  },
  {
   "cell_type": "code",
   "execution_count": 12,
   "metadata": {},
   "outputs": [],
   "source": [
    "#Artificial Neural networks (ANN) are computational algorithms which is capable of machine learning as well as pattern recognition.\n",
    "#It is presented as systems of interconnected “neurons” which can compute values from inputs.\n",
    "#It is an information processing technique and it works like the way human brain processes information. \n",
    "#ANN includes a large number of connected processing units that work together to process information to generate meaningful results from it.\n",
    "#We can apply Neural network not only for classification but for regression of continuous target attributes.\n",
    "#ANN consists of 3 layers - \n",
    "#1) Input Layer.\n",
    "#2) Hidden Layer.\n",
    "#3) Output Layer."
   ]
  },
  {
   "cell_type": "code",
   "execution_count": 13,
   "metadata": {},
   "outputs": [],
   "source": [
    "classifier = Sequential()"
   ]
  },
  {
   "cell_type": "markdown",
   "metadata": {},
   "source": [
    "### Adding the input layer and the first hidden layer…"
   ]
  },
  {
   "cell_type": "code",
   "execution_count": 14,
   "metadata": {},
   "outputs": [],
   "source": [
    "#Activation functions are really important for a Artificial Neural Network to learn and make sense of something really complicated and Non-linear complex functional mappings between the inputs and response variable.\n",
    "#They introduce non-linear properties to our Network.\n",
    "#Their main purpose is to convert a input signal of a node in a A-NN to an output signal. \n",
    "#That output signal now is used as a input in the next layer in the stack."
   ]
  },
  {
   "cell_type": "code",
   "execution_count": 15,
   "metadata": {},
   "outputs": [],
   "source": [
    "#Most popular types of Activation functions -\n",
    "# 1: Sigmoid or Logistic\n",
    "# 2: Tanh - Hyperbolic tangent\n",
    "# 3: ReLu - Rectified linear units"
   ]
  },
  {
   "cell_type": "code",
   "execution_count": 16,
   "metadata": {},
   "outputs": [
    {
     "name": "stderr",
     "output_type": "stream",
     "text": [
      "C:\\Users\\Home\\Anaconda3\\lib\\site-packages\\ipykernel_launcher.py:5: UserWarning: Update your `Dense` call to the Keras 2 API: `Dense(activation=\"relu\", input_dim=11, units=6, kernel_initializer=\"uniform\")`\n",
      "  \"\"\"\n"
     ]
    }
   ],
   "source": [
    "#ReLU or Rectified Linear Unit is a kind of activation function of form R(x) = max(0, x).\n",
    "#It is the most commonly used activation function in neural networks, especially in CNNs. \n",
    "#If you are unsure of what activation function to use in your network, ReLU is usually a great first choice.\n",
    "\n",
    "classifier.add(Dense(output_dim = 6, init = 'uniform', activation = 'relu', input_dim = 11))"
   ]
  },
  {
   "cell_type": "markdown",
   "metadata": {},
   "source": [
    "### Adding the second hidden layer…"
   ]
  },
  {
   "cell_type": "code",
   "execution_count": 17,
   "metadata": {},
   "outputs": [
    {
     "name": "stderr",
     "output_type": "stream",
     "text": [
      "C:\\Users\\Home\\Anaconda3\\lib\\site-packages\\ipykernel_launcher.py:1: UserWarning: Update your `Dense` call to the Keras 2 API: `Dense(activation=\"relu\", units=6, kernel_initializer=\"uniform\")`\n",
      "  \"\"\"Entry point for launching an IPython kernel.\n"
     ]
    }
   ],
   "source": [
    "classifier.add(Dense(output_dim = 6, init = 'uniform', activation = 'relu'))"
   ]
  },
  {
   "cell_type": "markdown",
   "metadata": {},
   "source": [
    "### Adding the output layer…"
   ]
  },
  {
   "cell_type": "code",
   "execution_count": 18,
   "metadata": {},
   "outputs": [
    {
     "name": "stderr",
     "output_type": "stream",
     "text": [
      "C:\\Users\\Home\\Anaconda3\\lib\\site-packages\\ipykernel_launcher.py:5: UserWarning: Update your `Dense` call to the Keras 2 API: `Dense(activation=\"sigmoid\", units=1, kernel_initializer=\"uniform\")`\n",
      "  \"\"\"\n"
     ]
    }
   ],
   "source": [
    "#Sigmoid is an activation function of form f(x) = 1 / 1 + exp(-x) . \n",
    "#It's range is between 0 and 1. \n",
    "#It is an S — shaped curve and it is easy to understand.\n",
    "\n",
    "classifier.add(Dense(output_dim = 1, init = 'uniform', activation = 'sigmoid'))"
   ]
  },
  {
   "cell_type": "markdown",
   "metadata": {},
   "source": [
    "### Compiling the ANN…"
   ]
  },
  {
   "cell_type": "code",
   "execution_count": 19,
   "metadata": {},
   "outputs": [],
   "source": [
    "classifier.compile(optimizer = 'adam', loss = 'binary_crossentropy', metrics = ['accuracy'])"
   ]
  },
  {
   "cell_type": "markdown",
   "metadata": {},
   "source": [
    "### Fitting the ANN to the Training set"
   ]
  },
  {
   "cell_type": "code",
   "execution_count": 20,
   "metadata": {},
   "outputs": [
    {
     "name": "stderr",
     "output_type": "stream",
     "text": [
      "C:\\Users\\Home\\Anaconda3\\lib\\site-packages\\ipykernel_launcher.py:1: UserWarning: The `nb_epoch` argument in `fit` has been renamed `epochs`.\n",
      "  \"\"\"Entry point for launching an IPython kernel.\n"
     ]
    },
    {
     "name": "stdout",
     "output_type": "stream",
     "text": [
      "Epoch 1/100\n",
      "8000/8000 [==============================] - 2s 257us/step - loss: 0.4784 - accuracy: 0.7960\n",
      "Epoch 2/100\n",
      "8000/8000 [==============================] - 2s 214us/step - loss: 0.4272 - accuracy: 0.7960\n",
      "Epoch 3/100\n",
      "8000/8000 [==============================] - 2s 208us/step - loss: 0.4205 - accuracy: 0.8076\n",
      "Epoch 4/100\n",
      "8000/8000 [==============================] - 2s 195us/step - loss: 0.4175 - accuracy: 0.8250\n",
      "Epoch 5/100\n",
      "8000/8000 [==============================] - 2s 229us/step - loss: 0.4149 - accuracy: 0.8288\n",
      "Epoch 6/100\n",
      "8000/8000 [==============================] - 2s 197us/step - loss: 0.4129 - accuracy: 0.8303\n",
      "Epoch 7/100\n",
      "8000/8000 [==============================] - 2s 225us/step - loss: 0.4118 - accuracy: 0.8307\n",
      "Epoch 8/100\n",
      "8000/8000 [==============================] - 5s 635us/step - loss: 0.4106 - accuracy: 0.8325\n",
      "Epoch 9/100\n",
      "8000/8000 [==============================] - 5s 650us/step - loss: 0.4103 - accuracy: 0.8331\n",
      "Epoch 10/100\n",
      "8000/8000 [==============================] - 2s 227us/step - loss: 0.4085 - accuracy: 0.8342\n",
      "Epoch 11/100\n",
      "8000/8000 [==============================] - 2s 223us/step - loss: 0.4084 - accuracy: 0.8325\n",
      "Epoch 12/100\n",
      "8000/8000 [==============================] - 2s 223us/step - loss: 0.4073 - accuracy: 0.8349\n",
      "Epoch 13/100\n",
      "8000/8000 [==============================] - 2s 240us/step - loss: 0.4068 - accuracy: 0.8330\n",
      "Epoch 14/100\n",
      "8000/8000 [==============================] - 2s 235us/step - loss: 0.4069 - accuracy: 0.8359\n",
      "Epoch 15/100\n",
      "8000/8000 [==============================] - 2s 194us/step - loss: 0.4064 - accuracy: 0.8339\n",
      "Epoch 16/100\n",
      "8000/8000 [==============================] - 2s 229us/step - loss: 0.4051 - accuracy: 0.8347\n",
      "Epoch 17/100\n",
      "8000/8000 [==============================] - 2s 231us/step - loss: 0.4052 - accuracy: 0.8356\n",
      "Epoch 18/100\n",
      "8000/8000 [==============================] - 2s 234us/step - loss: 0.4047 - accuracy: 0.8344\n",
      "Epoch 19/100\n",
      "8000/8000 [==============================] - 2s 232us/step - loss: 0.4044 - accuracy: 0.8341\n",
      "Epoch 20/100\n",
      "8000/8000 [==============================] - 2s 228us/step - loss: 0.4037 - accuracy: 0.8349\n",
      "Epoch 21/100\n",
      "8000/8000 [==============================] - 2s 216us/step - loss: 0.4043 - accuracy: 0.8350\n",
      "Epoch 22/100\n",
      "8000/8000 [==============================] - 2s 233us/step - loss: 0.4039 - accuracy: 0.8344\n",
      "Epoch 23/100\n",
      "8000/8000 [==============================] - 2s 231us/step - loss: 0.4029 - accuracy: 0.8356\n",
      "Epoch 24/100\n",
      "8000/8000 [==============================] - 2s 200us/step - loss: 0.4032 - accuracy: 0.8355\n",
      "Epoch 25/100\n",
      "8000/8000 [==============================] - 2s 232us/step - loss: 0.4032 - accuracy: 0.8346\n",
      "Epoch 26/100\n",
      "8000/8000 [==============================] - 2s 236us/step - loss: 0.4031 - accuracy: 0.8361\n",
      "Epoch 27/100\n",
      "8000/8000 [==============================] - 2s 224us/step - loss: 0.4027 - accuracy: 0.8346\n",
      "Epoch 28/100\n",
      "8000/8000 [==============================] - 2s 228us/step - loss: 0.4030 - accuracy: 0.8361\n",
      "Epoch 29/100\n",
      "8000/8000 [==============================] - 2s 230us/step - loss: 0.4023 - accuracy: 0.8344\n",
      "Epoch 30/100\n",
      "8000/8000 [==============================] - 2s 230us/step - loss: 0.4022 - accuracy: 0.8347\n",
      "Epoch 31/100\n",
      "8000/8000 [==============================] - 5s 640us/step - loss: 0.4023 - accuracy: 0.8367\n",
      "Epoch 32/100\n",
      "8000/8000 [==============================] - 5s 664us/step - loss: 0.4020 - accuracy: 0.8345\n",
      "Epoch 33/100\n",
      "8000/8000 [==============================] - 2s 246us/step - loss: 0.4019 - accuracy: 0.8339\n",
      "Epoch 34/100\n",
      "8000/8000 [==============================] - 2s 238us/step - loss: 0.4019 - accuracy: 0.8359\n",
      "Epoch 35/100\n",
      "8000/8000 [==============================] - 2s 249us/step - loss: 0.4018 - accuracy: 0.8351\n",
      "Epoch 36/100\n",
      "8000/8000 [==============================] - 2s 245us/step - loss: 0.4019 - accuracy: 0.8344\n",
      "Epoch 37/100\n",
      "8000/8000 [==============================] - 2s 244us/step - loss: 0.4020 - accuracy: 0.8366\n",
      "Epoch 38/100\n",
      "8000/8000 [==============================] - 2s 241us/step - loss: 0.4018 - accuracy: 0.8356\n",
      "Epoch 39/100\n",
      "8000/8000 [==============================] - 2s 245us/step - loss: 0.4019 - accuracy: 0.8340\n",
      "Epoch 40/100\n",
      "8000/8000 [==============================] - 2s 241us/step - loss: 0.4015 - accuracy: 0.8356\n",
      "Epoch 41/100\n",
      "8000/8000 [==============================] - 2s 258us/step - loss: 0.4018 - accuracy: 0.8350\n",
      "Epoch 42/100\n",
      "8000/8000 [==============================] - 2s 240us/step - loss: 0.4018 - accuracy: 0.8370\n",
      "Epoch 43/100\n",
      "8000/8000 [==============================] - 2s 257us/step - loss: 0.4015 - accuracy: 0.8356\n",
      "Epoch 44/100\n",
      "8000/8000 [==============================] - 2s 246us/step - loss: 0.4014 - accuracy: 0.8357\n",
      "Epoch 45/100\n",
      "8000/8000 [==============================] - 2s 252us/step - loss: 0.4010 - accuracy: 0.8355\n",
      "Epoch 46/100\n",
      "8000/8000 [==============================] - 2s 237us/step - loss: 0.4010 - accuracy: 0.8370\n",
      "Epoch 47/100\n",
      "8000/8000 [==============================] - 2s 249us/step - loss: 0.4012 - accuracy: 0.8359\n",
      "Epoch 48/100\n",
      "8000/8000 [==============================] - 2s 235us/step - loss: 0.4014 - accuracy: 0.8354\n",
      "Epoch 49/100\n",
      "8000/8000 [==============================] - 2s 244us/step - loss: 0.4009 - accuracy: 0.8363\n",
      "Epoch 50/100\n",
      "8000/8000 [==============================] - 2s 253us/step - loss: 0.4010 - accuracy: 0.8350\n",
      "Epoch 51/100\n",
      "8000/8000 [==============================] - 2s 257us/step - loss: 0.4008 - accuracy: 0.8350\n",
      "Epoch 52/100\n",
      "8000/8000 [==============================] - 2s 247us/step - loss: 0.4005 - accuracy: 0.8364\n",
      "Epoch 53/100\n",
      "8000/8000 [==============================] - 2s 252us/step - loss: 0.4007 - accuracy: 0.8357\n",
      "Epoch 54/100\n",
      "8000/8000 [==============================] - 2s 241us/step - loss: 0.4005 - accuracy: 0.8349\n",
      "Epoch 55/100\n",
      "8000/8000 [==============================] - 2s 257us/step - loss: 0.4009 - accuracy: 0.8351\n",
      "Epoch 56/100\n",
      "8000/8000 [==============================] - 2s 249us/step - loss: 0.4003 - accuracy: 0.8366\n",
      "Epoch 57/100\n",
      "8000/8000 [==============================] - 2s 248us/step - loss: 0.4012 - accuracy: 0.8366\n",
      "Epoch 58/100\n",
      "8000/8000 [==============================] - 2s 236us/step - loss: 0.4011 - accuracy: 0.8355\n",
      "Epoch 59/100\n",
      "8000/8000 [==============================] - 2s 269us/step - loss: 0.4005 - accuracy: 0.8367\n",
      "Epoch 60/100\n",
      "8000/8000 [==============================] - 2s 235us/step - loss: 0.4003 - accuracy: 0.8339\n",
      "Epoch 61/100\n",
      "8000/8000 [==============================] - 2s 230us/step - loss: 0.4006 - accuracy: 0.8359\n",
      "Epoch 62/100\n",
      "8000/8000 [==============================] - 2s 209us/step - loss: 0.4004 - accuracy: 0.8356\n",
      "Epoch 63/100\n",
      "8000/8000 [==============================] - 2s 247us/step - loss: 0.4004 - accuracy: 0.8359\n",
      "Epoch 64/100\n",
      "8000/8000 [==============================] - 2s 236us/step - loss: 0.4008 - accuracy: 0.8331\n",
      "Epoch 65/100\n",
      "8000/8000 [==============================] - 2s 237us/step - loss: 0.4004 - accuracy: 0.8346\n",
      "Epoch 66/100\n",
      "8000/8000 [==============================] - 2s 235us/step - loss: 0.4002 - accuracy: 0.8360\n",
      "Epoch 67/100\n",
      "8000/8000 [==============================] - 2s 241us/step - loss: 0.4007 - accuracy: 0.8372\n",
      "Epoch 68/100\n",
      "8000/8000 [==============================] - 5s 669us/step - loss: 0.4001 - accuracy: 0.8345\n",
      "Epoch 69/100\n",
      "8000/8000 [==============================] - 6s 741us/step - loss: 0.4006 - accuracy: 0.8356\n",
      "Epoch 70/100\n",
      "8000/8000 [==============================] - 5s 647us/step - loss: 0.4004 - accuracy: 0.8354\n",
      "Epoch 71/100\n",
      "8000/8000 [==============================] - 5s 638us/step - loss: 0.3999 - accuracy: 0.8353\n",
      "Epoch 72/100\n",
      "8000/8000 [==============================] - 2s 244us/step - loss: 0.4002 - accuracy: 0.8339\n",
      "Epoch 73/100\n",
      "8000/8000 [==============================] - 2s 247us/step - loss: 0.4003 - accuracy: 0.8354\n",
      "Epoch 74/100\n",
      "8000/8000 [==============================] - 2s 256us/step - loss: 0.4003 - accuracy: 0.8353\n",
      "Epoch 75/100\n",
      "8000/8000 [==============================] - 2s 244us/step - loss: 0.3997 - accuracy: 0.8342\n",
      "Epoch 76/100\n",
      "8000/8000 [==============================] - 6s 713us/step - loss: 0.3999 - accuracy: 0.8367\n",
      "Epoch 77/100\n",
      "8000/8000 [==============================] - 5s 674us/step - loss: 0.4002 - accuracy: 0.8346\n",
      "Epoch 78/100\n",
      "8000/8000 [==============================] - 6s 706us/step - loss: 0.3998 - accuracy: 0.8361\n",
      "Epoch 79/100\n",
      "8000/8000 [==============================] - 5s 678us/step - loss: 0.3999 - accuracy: 0.8346\n",
      "Epoch 80/100\n",
      "8000/8000 [==============================] - 2s 236us/step - loss: 0.4001 - accuracy: 0.8340\n",
      "Epoch 81/100\n",
      "8000/8000 [==============================] - 2s 236us/step - loss: 0.3998 - accuracy: 0.8369\n",
      "Epoch 82/100\n",
      "8000/8000 [==============================] - 2s 243us/step - loss: 0.4000 - accuracy: 0.8357\n",
      "Epoch 83/100\n",
      "8000/8000 [==============================] - 2s 233us/step - loss: 0.4001 - accuracy: 0.8357\n",
      "Epoch 84/100\n",
      "8000/8000 [==============================] - 2s 241us/step - loss: 0.4000 - accuracy: 0.8363\n",
      "Epoch 85/100\n",
      "8000/8000 [==============================] - 2s 237us/step - loss: 0.3995 - accuracy: 0.8347\n",
      "Epoch 86/100\n",
      "8000/8000 [==============================] - 2s 241us/step - loss: 0.4004 - accuracy: 0.8346\n",
      "Epoch 87/100\n",
      "8000/8000 [==============================] - 2s 240us/step - loss: 0.3997 - accuracy: 0.8347\n",
      "Epoch 88/100\n",
      "8000/8000 [==============================] - 2s 230us/step - loss: 0.3996 - accuracy: 0.8361\n",
      "Epoch 89/100\n",
      "8000/8000 [==============================] - 2s 217us/step - loss: 0.4003 - accuracy: 0.8344\n",
      "Epoch 90/100\n",
      "8000/8000 [==============================] - 2s 245us/step - loss: 0.3994 - accuracy: 0.8353\n",
      "Epoch 91/100\n",
      "8000/8000 [==============================] - 2s 239us/step - loss: 0.3994 - accuracy: 0.8355\n",
      "Epoch 92/100\n",
      "8000/8000 [==============================] - 2s 248us/step - loss: 0.3999 - accuracy: 0.8351\n",
      "Epoch 93/100\n",
      "8000/8000 [==============================] - 2s 251us/step - loss: 0.3998 - accuracy: 0.8340\n",
      "Epoch 94/100\n",
      "8000/8000 [==============================] - 2s 233us/step - loss: 0.3996 - accuracy: 0.8351\n",
      "Epoch 95/100\n",
      "8000/8000 [==============================] - 2s 241us/step - loss: 0.3999 - accuracy: 0.8345\n",
      "Epoch 96/100\n",
      "8000/8000 [==============================] - 2s 249us/step - loss: 0.3996 - accuracy: 0.8366\n",
      "Epoch 97/100\n",
      "8000/8000 [==============================] - 2s 230us/step - loss: 0.3997 - accuracy: 0.8347\n",
      "Epoch 98/100\n",
      "8000/8000 [==============================] - 2s 242us/step - loss: 0.3997 - accuracy: 0.8364\n",
      "Epoch 99/100\n",
      "8000/8000 [==============================] - 2s 235us/step - loss: 0.3999 - accuracy: 0.8350\n",
      "Epoch 100/100\n",
      "8000/8000 [==============================] - 2s 234us/step - loss: 0.4000 - accuracy: 0.8364\n"
     ]
    },
    {
     "data": {
      "text/plain": [
       "<keras.callbacks.callbacks.History at 0x22e00c579e8>"
      ]
     },
     "execution_count": 20,
     "metadata": {},
     "output_type": "execute_result"
    }
   ],
   "source": [
    "classifier.fit(X_train, y_train, batch_size = 10, nb_epoch = 100)"
   ]
  },
  {
   "cell_type": "markdown",
   "metadata": {},
   "source": [
    "### Making the predictions and evaluating the model"
   ]
  },
  {
   "cell_type": "code",
   "execution_count": 21,
   "metadata": {},
   "outputs": [
    {
     "data": {
      "text/plain": [
       "array([[False],\n",
       "       [False],\n",
       "       [False],\n",
       "       ...,\n",
       "       [False],\n",
       "       [False],\n",
       "       [False]])"
      ]
     },
     "execution_count": 21,
     "metadata": {},
     "output_type": "execute_result"
    }
   ],
   "source": [
    "y_pred = classifier.predict(X_test)\n",
    "y_pred = (y_pred > 0.5)\n",
    "y_pred "
   ]
  },
  {
   "cell_type": "markdown",
   "metadata": {},
   "source": [
    "### Making the Confusion Matrix"
   ]
  },
  {
   "cell_type": "code",
   "execution_count": 22,
   "metadata": {},
   "outputs": [],
   "source": [
    "#A confusion matrix is a table that is often used to describe the performance of a classification model on a set of test data for which the true values are known. \n",
    "#It allows the visualization of the performance of an algorithm.\n",
    "#Confusion matrix basically gives us an idea about how well our classifier has performed, with respect to performance on individual classes."
   ]
  },
  {
   "cell_type": "code",
   "execution_count": 23,
   "metadata": {},
   "outputs": [
    {
     "data": {
      "text/plain": [
       "array([[1546,   49],\n",
       "       [ 262,  143]], dtype=int64)"
      ]
     },
     "execution_count": 23,
     "metadata": {},
     "output_type": "execute_result"
    }
   ],
   "source": [
    "from sklearn.metrics import confusion_matrix\n",
    "cm = confusion_matrix(y_test, y_pred)\n",
    "cm"
   ]
  },
  {
   "cell_type": "code",
   "execution_count": 24,
   "metadata": {},
   "outputs": [
    {
     "name": "stdout",
     "output_type": "stream",
     "text": [
      "              precision    recall  f1-score   support\n",
      "\n",
      "       False       0.97      0.86      0.91      1808\n",
      "        True       0.35      0.74      0.48       192\n",
      "\n",
      "    accuracy                           0.84      2000\n",
      "   macro avg       0.66      0.80      0.69      2000\n",
      "weighted avg       0.91      0.84      0.87      2000\n",
      "\n"
     ]
    }
   ],
   "source": [
    "# Import classification_report\n",
    "\n",
    "from sklearn.metrics import precision_recall_fscore_support,classification_report\n",
    "print(classification_report(y_pred,y_test))"
   ]
  },
  {
   "cell_type": "code",
   "execution_count": 25,
   "metadata": {},
   "outputs": [],
   "source": [
    "#The accuracy obtained here is 84%."
   ]
  },
  {
   "cell_type": "markdown",
   "metadata": {},
   "source": [
    "##  Conclusion"
   ]
  },
  {
   "cell_type": "code",
   "execution_count": null,
   "metadata": {},
   "outputs": [],
   "source": [
    "I have tried to explore and use many stuff with this dataset in order to understand the very basic topics about:\n",
    "1) Encoding categorical data.\n",
    "2) Feature Scaling.\n",
    "3) Activation Functions.\n",
    "4) Model building."
   ]
  },
  {
   "cell_type": "code",
   "execution_count": null,
   "metadata": {},
   "outputs": [],
   "source": [
    "Thank You\n",
    "\n",
    "Any comments, suggestions, corrections are welcome."
   ]
  }
 ],
 "metadata": {
  "kernelspec": {
   "display_name": "Python 3",
   "language": "python",
   "name": "python3"
  },
  "language_info": {
   "codemirror_mode": {
    "name": "ipython",
    "version": 3
   },
   "file_extension": ".py",
   "mimetype": "text/x-python",
   "name": "python",
   "nbconvert_exporter": "python",
   "pygments_lexer": "ipython3",
   "version": "3.7.3"
  }
 },
 "nbformat": 4,
 "nbformat_minor": 2
}
